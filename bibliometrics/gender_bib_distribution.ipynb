{
 "metadata": {
  "name": "",
  "signature": "sha256:6f383a43792fbbbfd46536ec5b9f33bd326c81f4ab001b450f47eb9b92141112"
 },
 "nbformat": 3,
 "nbformat_minor": 0,
 "worksheets": [
  {
   "cells": [
    {
     "cell_type": "code",
     "collapsed": false,
     "input": [
      "from __future__ import division\n",
      "\n",
      "\"\"\"gendering\"\"\"\n",
      "from genderComputer.genderComputer import GenderComputer\n",
      "\n",
      "\"\"\"bibtex parsing\"\"\"\n",
      "import os\n",
      "import bibtexparser as b #module for bibtexin'\n",
      "from bibtexparser.bparser import BibTexParser #import to add customization\n",
      "from bibtexparser.customization import *\n",
      "\n",
      "\"\"\"plotting functions\"\"\"\n",
      "import matplotlib.pyplot as plt; plt.rcdefaults()\n",
      "import numpy as np\n",
      "import matplotlib.pyplot as plt\n",
      "\n",
      "\"\"\"date time functions \"\"\"\n",
      "from datetime import datetime #idk bring in the system date or whatever"
     ],
     "language": "python",
     "metadata": {},
     "outputs": [],
     "prompt_number": 1
    },
    {
     "cell_type": "code",
     "collapsed": false,
     "input": [
      "today = datetime.today()\n",
      "bib = 'CriticalOpenNeuro.bib' #bring that bib file in\n",
      "gc = GenderComputer(os.path.abspath('genderComputer/nameLists')) #make gendercomputer"
     ],
     "language": "python",
     "metadata": {},
     "outputs": [
      {
       "output_type": "stream",
       "stream": "stdout",
       "text": [
        "Loaded dictionary from /home/feline/Documents/div3/bibliometrics/genderComputer/nameLists/gender.dict\n",
        "Finished initialization"
       ]
      },
      {
       "output_type": "stream",
       "stream": "stdout",
       "text": [
        "\n"
       ]
      }
     ],
     "prompt_number": 3
    },
    {
     "cell_type": "code",
     "collapsed": false,
     "input": [
      "def customizations(record):\n",
      "    \"\"\"Use some functions delivered by the library\n",
      "    :param record: a record\n",
      "    :returns: -- customized record\n",
      "    \"\"\"\n",
      "    record = type(record)\n",
      "    record = doi(record)\n",
      "    record = convert_to_unicode(record)\n",
      "    record = author(record)\n",
      "    return record"
     ],
     "language": "python",
     "metadata": {},
     "outputs": [],
     "prompt_number": 4
    },
    {
     "cell_type": "code",
     "collapsed": false,
     "input": [
      "def parseFile(bib_file):\n",
      "    \"\"\"parse the bib file\n",
      "    \n",
      "    :param bib_file: bibtex file to be parsed\n",
      "    :returns: -- a bibtex file object\n",
      "    \"\"\"\n",
      "    with open(bib_file) as bibtex_file: \n",
      "        parser = BibTexParser()\n",
      "        parser.homogenize = True        \n",
      "        parser.customization = customizations\n",
      "        data = b.load(bibtex_file, parser = parser)\n",
      "        return data"
     ],
     "language": "python",
     "metadata": {},
     "outputs": [],
     "prompt_number": 5
    },
    {
     "cell_type": "code",
     "collapsed": false,
     "input": [
      "def countGender(ts=True):\n",
      "    \"\"\"take the bib database and count genders of authors\n",
      "    \"\"\" \n",
      "    global auCount\n",
      "    global notav\n",
      "    global uni\n",
      "    global men\n",
      "    global women\n",
      "    for entry in data.entries:\n",
      "        title = entry[\"title\"]\n",
      "        if \"author\" in entry:\n",
      "            authors = entry[\"author\"] \n",
      "        elif ts==True:\n",
      "            print \"no author in\", title\n",
      "        for j in authors:\n",
      "            auCount += 1\n",
      "            gender = gc.resolveGender(j, None) #resolve gender, yay\n",
      "            if gender == 'male':\n",
      "                men += 1\n",
      "            elif gender == 'female':\n",
      "                women += 1\n",
      "            elif gender == 'unisex':\n",
      "                uni += 1\n",
      "            else:\n",
      "                notav += 1 \n",
      "                if ts == True:\n",
      "                    print j, title\n",
      "            "
     ],
     "language": "python",
     "metadata": {},
     "outputs": [],
     "prompt_number": 6
    },
    {
     "cell_type": "code",
     "collapsed": false,
     "input": [
      "women = 0\n",
      "men = 0\n",
      "uni = 0\n",
      "notav = 0\n",
      "auCount = 0"
     ],
     "language": "python",
     "metadata": {},
     "outputs": [],
     "prompt_number": 7
    },
    {
     "cell_type": "code",
     "collapsed": false,
     "input": [
      "data = parseFile(bib) #run the parse file\n",
      "countGender()"
     ],
     "language": "python",
     "metadata": {},
     "outputs": [
      {
       "output_type": "stream",
       "stream": "stdout",
       "text": [
        "Gorelick, Root Indigenous sciences are not pseudoscience\n",
        "Geiger, R. Stuar The Rise and Decline of an Open Collaboration System: How Wikipedia's Reaction to Popularity Is Causing Its Decline\n",
        "Release, CERN Press {CERN} launches Open Hardware initiative\n",
        "{OseiTutu}, J. Janewa Sui Generis Regime for Traditional Knowledge: The Cultural Divide in Intellectual Property Law, A\n",
        "Braun, Lundy Racial Categories in Medical Practice: How Useful Are They?\n",
        "Holbrook, J. Britt Open Access and Its Enemies\n",
        "Wagenmakers, Eric-Jan An Agenda for Purely Confirmatory Research\n",
        "Miranda, J. Jaime Exporting\" failure\": why research from rich countries may not benefit the developing world\n",
        "Zaman, M. Justin Exporting\" failure\": why research from rich countries may not benefit the developing world\n",
        "Ni, C. Q."
       ]
      },
      {
       "output_type": "stream",
       "stream": "stdout",
       "text": [
        " Global gender disparities in science\n",
        "Ray, Rinki Sex Steroids and Stem Cell Function\n",
        "Wise, M. Norton Thoughts on the Politicization of Science through Commercialization\n",
        "Gold, I. A neuron doctrine in the philosophy of neuroscience\n",
        "Stoljar, D. A neuron doctrine in the philosophy of neuroscience\n",
        "Ally, Ariff Differentiation and maturation of embryonal carcinoma-derived neurons in cell culture\n",
        "Nakamura, Naosuke A rapid and efficient method for neuronal induction of the P19 embryonic carcinoma cell line\n",
        "Chan, C.-H. Emx1 is a Marker for Pyramidal Neurons of the Cerebral Cortex\n",
        "Tan, Seong-Seng Emx1 is a Marker for Pyramidal Neurons of the Cerebral Cortex\n",
        "Parnavelas, J. G. Emx1 is a Marker for Pyramidal Neurons of the Cerebral Cortex\n",
        "Babu\u0161ka, V. Characterization of P19 cells during retinoic acid induced differentiation\n",
        "Kulda, V. Characterization of P19 cells during retinoic acid induced differentiation\n",
        "Houdek, Z. Characterization of P19 cells during retinoic acid induced differentiation\n",
        "Pe\u0161ta, M. Characterization of P19 cells during retinoic acid induced differentiation\n",
        "Cendelin, J. Characterization of P19 cells during retinoic acid induced differentiation\n",
        "Zech, N. Characterization of P19 cells during retinoic acid induced differentiation\n",
        "Pachern\u00edk, J. Characterization of P19 cells during retinoic acid induced differentiation\n",
        "Vo\u017eeh, F. Characterization of P19 cells during retinoic acid induced differentiation\n",
        "Uher, P. Characterization of P19 cells during retinoic acid induced differentiation\n",
        "Kr\u00e1l\u00ed\u010dkov\u00e1, M. Characterization of P19 cells during retinoic acid induced differentiation\n",
        "Rajeevan, Mangalathu S. Functional genomics of serotonin receptor 2A ({HTR}2A): interaction of polymorphism, methylation, expression and disease association\n",
        "Abbas, Atheir"
       ]
      },
      {
       "output_type": "stream",
       "stream": "stdout",
       "text": [
        " Arresting serotonin\n",
        "Chang, Yuchiao The ``gender gap'' in authorship of academic medical literature{\\textemdash}a 35-year perspective\n",
        "Sidhu, R. The gender imbalance in academic medicine: a study of female authorship in the United Kingdom\n",
        "Rajashekhar, P. The gender imbalance in academic medicine: a study of female authorship in the United Kingdom\n",
        "Lavin, V. L The gender imbalance in academic medicine: a study of female authorship in the United Kingdom\n",
        "Parry, J. The gender imbalance in academic medicine: a study of female authorship in the United Kingdom\n",
        "Attwood, J. The gender imbalance in academic medicine: a study of female authorship in the United Kingdom\n",
        "Holdcroft, A. The gender imbalance in academic medicine: a study of female authorship in the United Kingdom\n",
        "Sanders, D. S The gender imbalance in academic medicine: a study of female authorship in the United Kingdom\n",
        "Standards, Task Group on Data Citation Out of Cite, Out of Mind: The Current State of Practice, Policy, and Technology for the Citation of Data\n",
        "Practices, {CODATA}-{ICSTI} Out of Cite, Out of Mind: The Current State of Practice, Policy, and Technology for the Citation of Data\n",
        "Zhang, L Sex differences in expression of serotonin receptors (subtypes 1A and 2A) in rat brain: a possible role of testosterone\n",
        "Ma, W Sex differences in expression of serotonin receptors (subtypes 1A and 2A) in rat brain: a possible role of testosterone\n",
        "Barker, J. L Sex differences in expression of serotonin receptors (subtypes 1A and 2A) in rat brain: a possible role of testosterone\n",
        "Rubinow, D. R Sex differences in expression of serotonin receptors (subtypes 1A and 2A) in rat brain: a possible role of testosterone\n",
        "Torper, Olef Generation of induced neurons via direct conversion in vivo\n",
        "Lau, Shong Generation of induced neurons via direct conversion in vivo\n",
        "Chiba, Shigetoshi Gene Expression of {MASH}-l, {MATH}-l, {neuroD} and {NSCL}-2, Basic Helix-Loop-Helix Proteins, during Neural Differentiation in P19 Embryonal Carcinoma Cells.\n",
        "Khor, Hwei Ling Neurons Derived from P19 Embryonic Carcinoma Cells as a Platform for Biosensor Applications: Optimisation and Characterisation\n",
        "Visiers, Irache Molecular basis of partial agonism: orientation of indoleamine ligands in the binding pocket of the human serotonin 5-{HT}2A receptor determines relative efficacy\n",
        "Panicker, Mitradas M. Internalization and recycling of 5-{HT}2A receptors activated by serotonin and protein kinase C-mediated mechanisms\n",
        "Salazar, F.H. Rick The pharmacology and distribution of human 5-hydroxytryptamine2B (5-{HT}2b) receptor gene products: comparison with 5-{HT}2a and 5-{HT}2c receptors\n",
        "Manji, Husseini"
       ]
      },
      {
       "output_type": "stream",
       "stream": "stdout",
       "text": [
        " A Naturally Occurring Amino Acid Substitution of the Human Serotonin 5-{HT}2A Receptor Influences Amplitude and Timing of Intracellular Calcium Mobilization\n",
        "Puig, M. Victoria The therapeutic role of 5-{HT}1A and 5-{HT}2A receptors in depression\n",
        "Lee, Hyeong-Min Hallucinogen actions on human brain revealed\n",
        "Chan, Pokman Hallucinogens Recruit Specific Cortical 5-{HT}2A Receptor-Mediated Signaling Pathways to Affect Behavior\n",
        "Ge, Yongchao Hallucinogens Recruit Specific Cortical 5-{HT}2A Receptor-Mediated Signaling Pathways to Affect Behavior\n",
        "{McKenney}, J. D. Evidence for 5-{HT}2 involvement in the mechanism of action of hallucinogenic agents\n",
        "Abbas, A. I."
       ]
      },
      {
       "output_type": "stream",
       "stream": "stdout",
       "text": [
        " {PSD}-95 Is Essential for Hallucinogen and Atypical Antipsychotic Drug Actions at Serotonin Receptors\n",
        "Yadav, P. N. {PSD}-95 Is Essential for Hallucinogen and Atypical Antipsychotic Drug Actions at Serotonin Receptors\n",
        "Yao, W.-D. {PSD}-95 Is Essential for Hallucinogen and Atypical Antipsychotic Drug Actions at Serotonin Receptors\n",
        "Arbuckle, M. I. {PSD}-95 Is Essential for Hallucinogen and Atypical Antipsychotic Drug Actions at Serotonin Receptors\n",
        "Grant, S. G. N. {PSD}-95 Is Essential for Hallucinogen and Atypical Antipsychotic Drug Actions at Serotonin Receptors\n",
        "Caron, M. G. {PSD}-95 Is Essential for Hallucinogen and Atypical Antipsychotic Drug Actions at Serotonin Receptors\n",
        "Roth, B. L. {PSD}-95 Is Essential for Hallucinogen and Atypical Antipsychotic Drug Actions at Serotonin Receptors\n",
        "Thomas, Tarita O. Insights into G Protein Structure, Function, and Regulation\n",
        "Kanagarajadurai, Karuppiah Molecular modeling and docking studies of human 5-hydroxytryptamine 2A (5-{HT}2A) receptor for the identification of hotspots for ligand binding\n",
        "Panicker, Mitradas M. Molecular modeling and docking studies of human 5-hydroxytryptamine 2A (5-{HT}2A) receptor for the identification of hotspots for ligand binding\n",
        "Vazquez-Borsetti, P. Pyramidal Neurons in Rat Prefrontal Cortex Projecting to Ventral Tegmental Area and Dorsal Raphe Nucleus Express 5-{HT}2A Receptors\n",
        "Cortes, R. Pyramidal Neurons in Rat Prefrontal Cortex Projecting to Ventral Tegmental Area and Dorsal Raphe Nucleus Express 5-{HT}2A Receptors\n",
        "Artigas, F. Pyramidal Neurons in Rat Prefrontal Cortex Projecting to Ventral Tegmental Area and Dorsal Raphe Nucleus Express 5-{HT}2A Receptors\n",
        "Schmid, C. L. Serotonin, But Not N-Methyltryptamines, Activates the Serotonin 2A Receptor Via a -Arrestin2/Src/Akt Signaling Complex In Vivo\n",
        "Bohn, L. M. Serotonin, But Not N-Methyltryptamines, Activates the Serotonin 2A Receptor Via a -Arrestin2/Src/Akt Signaling Complex In Vivo\n",
        "Fantegrossi, W. E. Interaction of 5-{HT}2A and 5-{HT}2C Receptors in R(-)-2,5-Dimethoxy-4-iodoamphetamine-Elicited Head Twitch Behavior in Mice\n",
        "Simoneau, J. Interaction of 5-{HT}2A and 5-{HT}2C Receptors in R(-)-2,5-Dimethoxy-4-iodoamphetamine-Elicited Head Twitch Behavior in Mice\n",
        "Cohen, M. S. Interaction of 5-{HT}2A and 5-{HT}2C Receptors in R(-)-2,5-Dimethoxy-4-iodoamphetamine-Elicited Head Twitch Behavior in Mice\n",
        "Zimmerman, S. M. Interaction of 5-{HT}2A and 5-{HT}2C Receptors in R(-)-2,5-Dimethoxy-4-iodoamphetamine-Elicited Head Twitch Behavior in Mice\n",
        "Henson, C. M. Interaction of 5-{HT}2A and 5-{HT}2C Receptors in R(-)-2,5-Dimethoxy-4-iodoamphetamine-Elicited Head Twitch Behavior in Mice\n",
        "Rice, K. C. Interaction of 5-{HT}2A and 5-{HT}2C Receptors in R(-)-2,5-Dimethoxy-4-iodoamphetamine-Elicited Head Twitch Behavior in Mice\n",
        "Woods, J. H. Interaction of 5-{HT}2A and 5-{HT}2C Receptors in R(-)-2,5-Dimethoxy-4-iodoamphetamine-Elicited Head Twitch Behavior in Mice\n",
        "De Almeida, J. Quantitative analysis of glutamatergic and {GABAergic} neurons expressing 5-{HT}2A receptors in human and monkey prefrontal cortex\n",
        "Mengod, G. Quantitative analysis of glutamatergic and {GABAergic} neurons expressing 5-{HT}2A receptors in human and monkey prefrontal cortex\n",
        "Huang, Shan-Fu Evidence that a protein{\\textendash}protein interaction `hot spot' on heterotrimeric G protein \\ensuremath{{\\beta}{\\gamma}} subunits is used for recognition of a subclass of effectors\n",
        "Gangadhar, Beechanahalli P. Evidence that a protein{\\textendash}protein interaction `hot spot' on heterotrimeric G protein \\ensuremath{{\\beta}{\\gamma}} subunits is used for recognition of a subclass of effectors\n",
        "Rebois, R. Victor The Role of G\\ensuremath{{\\beta}{\\gamma}} Subunits in the Organization, Assembly, and Function of GPCR Signaling Complexes\n",
        "Johansen, P\u00e5l-\u00d8rjan Psychedelics and Mental Health: A Population Study\n",
        "History.com, "
       ]
      },
      {
       "output_type": "stream",
       "stream": "stdout",
       "text": [
        " Hallucinogenic effects of {LSD} discovered {\\textemdash} History.com This Day in History {\\textemdash} 4/16/1943\n",
        "Gresch, P. J. Lysergic acid diethylamide-induced Fos expression in rat brain: role of serotonin-2A receptors\n",
        "Strickland, L. V. Lysergic acid diethylamide-induced Fos expression in rat brain: role of serotonin-2A receptors\n",
        "Sanders-Bush, E. Lysergic acid diethylamide-induced Fos expression in rat brain: role of serotonin-2A receptors\n",
        "Silva, Uade B. Olaghere da The serotonin 2C receptor potently modulates the head-twitch response in mice induced by a phenethylamine hallucinogen\n",
        "Millman, K. Jarrod Data Sharing for Computational Neuroscience\n",
        "Guo, Quanmin Critical Assessment of the Evidence for Striped Nanoparticles\n",
        "Arunachalam, Subbiah Open access archiving: the fast track to building research capacity in developing countries\n",
        "Soares, Thannya Nascimento Publish (in a group) or perish (alone): the trend from single- to multi-authorship in biological papers\n",
        "Reichman, O. J. Challenges and Opportunities of Open Data in Ecology\n",
        "Jones, M. B. Challenges and Opportunities of Open Data in Ecology\n",
        "Schildhauer, M. P. Challenges and Opportunities of Open Data in Ecology\n",
        "Steen, R. Grant Retractions in the scientific literature: is the incidence of research fraud increasing?\n",
        "Moonesinghe, Ramal Most Published Research Findings Are False{\\textemdash}But a Little Replication Goes a Long Way\n",
        "Janssens, A. Cecile J. W Most Published Research Findings Are False{\\textemdash}But a Little Replication Goes a Long Way\n",
        "Fang, Ferric C. Retracted Science and the Retraction Index\n",
        "Begley, C. Glenn"
       ]
      },
      {
       "output_type": "stream",
       "stream": "stdout",
       "text": [
        " Drug development: Raise standards for preclinical cancer research\n",
        "Asadullah, Khusru Believe it or not: how much can we rely on published data on potential drug targets?\n",
        "Zhang, Minghua A comprehensive survey of retracted articles from the scholarly literature\n",
        "Gopalan, R Publication bias in clinical research\n",
        "Berlin, J. A Publication bias in clinical research\n",
        "Chan, An-Wen Systematic Review of the Empirical Evidence of Study Publication Bias and Outcome Reporting Bias\n",
        "{MOeLLER}, {ANDERS} P. Publication bias in ecology and evolution: an empirical assessment using the `trim and fill'method\n",
        "DA, Kronick {PEer} review in 18th-century scientific journalism\n",
        "JC, Burnham {THe} evolution of editorial peer review\n",
        "Comments, 2014|Academic communication|5 Altmetrics could enable scholarship from developing countries to receive due recognition.\n",
        "Khan, Razib Dragging scientific publishing into the 21st century\n",
        "Bj\u00f6rk, Bo-Christer Open access versus subscription journals: a comparison of scientific impact\n",
        "Kim, Heekyung Hellen The Effect of Free Access on the Diffusion of Scholarly Ideas\n",
        "Evans, J. A. Open Access and Global Participation in Science\n",
        "Reimer, J. Open Access and Global Participation in Science\n",
        "Miranda, J. Jaime Relation between the Global Burden of Disease and Randomized Clinical Trials Conducted in Latin America Published in the Five Leading Medical Journals\n",
        "Greysen, S Ryan"
       ]
      },
      {
       "output_type": "stream",
       "stream": "stdout",
       "text": [
        " Medical education in sub-Saharan Africa: a literature review: Medical education in sub-Saharan Africa\n",
        "Olapade-Olaopa, E Oluwabunmi Medical education in sub-Saharan Africa: a literature review: Medical education in sub-Saharan Africa\n",
        "Mullan, Fitzhugh Medical education in sub-Saharan Africa: a literature review: Medical education in sub-Saharan Africa\n",
        "Henry, Trotter Seeking Impact and Visibility: Scholarly Communication in Southern Africa\n",
        "Soo, Khee Chee The journal impact factor: too much of an impact?\n",
        "Editors, The PLoS Medicine The Impact Factor Game\n",
        "Fang, Ferric C. Causes for the Persistence of Impact Factor Mania\n",
        "Holbrook, J. Britt Research impact: We need negative metrics too\n",
        "Pillay, Pundy Universities and economic development in Africa\n",
        "{p.f.wouters@cwts.leidenuniv.nl},  Disentangling the meaning of `altmetrics': content analysis of Web of Science scientific publications\n",
        "Fernandes, G. Wilson Ethical abuses in the authorship of scientific papers\n",
        "(Organization), Global Forum for Health Research The 10/90 report on health research, 2000.\n",
        "Sumathipala, Athula Under-representation of developing countries in the research literature: ethical issues arising from a survey of five leading medical journals\n",
        "Clark, Jocalyn P. Relation between randomized controlled trials published in leading general medical journals and the global burden of disease\n",
        "Obuaya, Chi-Chi International submissions to journals\n",
        "Review, Editors of the Harvard Educational"
       ]
      },
      {
       "output_type": "stream",
       "stream": "stdout",
       "text": [
        " Symposium: Unraveling the Double Bind: Women of Color in {STEM}\n",
        "Shonkoff, J. P. Leveraging the biology of adversity to address the roots of disparities in health and development\n",
        "Brotherton, P. Sean Revisiting Local Biology in the Era of Global Health\n",
        "Nguyen, Vinh-Kim Revisiting Local Biology in the Era of Global Health\n",
        "{Syamsidik},  Process for integrating local and indigenous knowledge with science for hydro-meteorological disaster risk reduction and climate change adaptation in coastal and small island communities\n",
        "Towghi, Fouzieyha The Biopolitics of Reproductive Technologies beyond the Clinic: Localizing {HPV} Vaccines in India\n",
        "History), Arctic Studies Center (National Museum of Natural The earth is faster now: indigenous observations of Arctic environment change\n",
        "no author in Feminist Epistemologies\n",
        "Roy, Deboleena Feminist theory in science: working toward a practical transformation\n",
        "Roy, Deboleena Asking different questions: Feminist practices for the natural sciences\n",
        "Boulware, L. Ebony Race and trust in the health care system.\n",
        "Strenta, A. Christopher Choosing and leaving science in highly selective institutions\n"
       ]
      }
     ],
     "prompt_number": 8
    },
    {
     "cell_type": "code",
     "collapsed": false,
     "input": [
      "stats = {'Women':women, 'Men':men, 'Unisex':uni, 'Not Available':notav}\n",
      "percents = {'Women':women, 'Men':men, 'Unisex':uni, 'Not Available':notav}"
     ],
     "language": "python",
     "metadata": {},
     "outputs": [],
     "prompt_number": 9
    },
    {
     "cell_type": "code",
     "collapsed": false,
     "input": [
      "for key in stats:\n",
      "    value = stats[key]\n",
      "    percent = value/auCount*100 #probably should fix so it can't break if dividing by zero\n",
      "    percents[key] = percent"
     ],
     "language": "python",
     "metadata": {},
     "outputs": [],
     "prompt_number": 10
    },
    {
     "cell_type": "code",
     "collapsed": false,
     "input": [
      "print stats\n",
      "print percents\n",
      "print auCount"
     ],
     "language": "python",
     "metadata": {},
     "outputs": [
      {
       "output_type": "stream",
       "stream": "stdout",
       "text": [
        "{'Unisex': 18, 'Not Available': 144, 'Men': 628, 'Women': 342}\n",
        "{'Unisex': 1.5901060070671376, 'Not Available': 12.7208480565371, 'Men': 55.47703180212014, 'Women': 30.212014134275616}\n",
        "1132\n"
       ]
      }
     ],
     "prompt_number": 11
    },
    {
     "cell_type": "code",
     "collapsed": false,
     "input": [
      "plt.bar(range(len(stats)), percents.values(), align='center', alpha=0.2)\n",
      "plt.xticks(range(len(percents)), percents.keys())\n",
      "plt.xlabel('Gender Assigned (generated ' + str(today) +')')\n",
      "plt.ylabel('Percents')"
     ],
     "language": "python",
     "metadata": {},
     "outputs": [
      {
       "metadata": {},
       "output_type": "pyout",
       "prompt_number": 12,
       "text": [
        "<matplotlib.text.Text at 0x79c29d0>"
       ]
      }
     ],
     "prompt_number": 12
    },
    {
     "cell_type": "code",
     "collapsed": false,
     "input": [
      "plt.savefig('gender_distr.png', bbox_inches='tight')"
     ],
     "language": "python",
     "metadata": {},
     "outputs": [],
     "prompt_number": 13
    }
   ],
   "metadata": {}
  }
 ]
}