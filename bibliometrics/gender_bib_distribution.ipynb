{
 "metadata": {
  "name": "",
  "signature": "sha256:d20b7ee16c2ae806ad15692e0125b8253258dc8f3cbce1f4c30656088b2a800d"
 },
 "nbformat": 3,
 "nbformat_minor": 0,
 "worksheets": [
  {
   "cells": [
    {
     "cell_type": "code",
     "collapsed": false,
     "input": [
      "from __future__ import division\n",
      "\n",
      "\"\"\"gendering\"\"\"\n",
      "from genderComputer.genderComputer import GenderComputer\n",
      "\n",
      "\"\"\"bibtex parsing\"\"\"\n",
      "import os\n",
      "import bibtexparser as b #module for bibtexin'\n",
      "from bibtexparser.bparser import BibTexParser #import to add customization\n",
      "from bibtexparser.customization import *\n",
      "\n",
      "\"\"\"plotting functions\"\"\"\n",
      "import matplotlib.pyplot as plt; plt.rcdefaults()\n",
      "import numpy as np\n",
      "import matplotlib.pyplot as plt\n",
      "\n",
      "\"\"\"date time functions \"\"\"\n",
      "from datetime import datetime #idk bring in the system date or whatever\n",
      "\n",
      "\"\"\"csv\"\"\"\n",
      "import csv"
     ],
     "language": "python",
     "metadata": {},
     "outputs": [],
     "prompt_number": 1
    },
    {
     "cell_type": "code",
     "collapsed": false,
     "input": [
      "today = datetime.today()\n",
      "gc = GenderComputer(os.path.abspath('genderComputer/nameLists')) #make gendercomputer"
     ],
     "language": "python",
     "metadata": {},
     "outputs": [
      {
       "output_type": "stream",
       "stream": "stdout",
       "text": [
        "Loaded dictionary from /home/feline/Documents/div3/bibliometrics/genderComputer/nameLists/gender.dict\n",
        "Finished initialization"
       ]
      },
      {
       "output_type": "stream",
       "stream": "stdout",
       "text": [
        "\n"
       ]
      }
     ],
     "prompt_number": 2
    },
    {
     "cell_type": "code",
     "collapsed": false,
     "input": [
      "bib = 'CriticalOpenNeuro.bib' #bring that bib file in"
     ],
     "language": "python",
     "metadata": {},
     "outputs": [],
     "prompt_number": 3
    },
    {
     "cell_type": "code",
     "collapsed": false,
     "input": [
      "def customizations(record):\n",
      "    \"\"\"Use some functions delivered by the library\n",
      "    :param record: a record\n",
      "    :returns: -- customized record\n",
      "    \"\"\"\n",
      "    record = type(record)\n",
      "    record = doi(record)\n",
      "    record = convert_to_unicode(record)\n",
      "    record = author(record)\n",
      "    return record"
     ],
     "language": "python",
     "metadata": {},
     "outputs": [],
     "prompt_number": 4
    },
    {
     "cell_type": "code",
     "collapsed": false,
     "input": [
      "def parseFile(bib_file):\n",
      "    \"\"\"parse the bib file\n",
      "    \n",
      "    :param bib_file: bibtex file to be parsed\n",
      "    :returns: -- a bibtex file object\n",
      "    \"\"\"\n",
      "    with open(bib_file) as bibtex_file: \n",
      "        parser = BibTexParser()\n",
      "        parser.homogenize = True        \n",
      "        parser.customization = customizations\n",
      "        data = b.load(bibtex_file, parser = parser)\n",
      "        return data"
     ],
     "language": "python",
     "metadata": {},
     "outputs": [],
     "prompt_number": 5
    },
    {
     "cell_type": "code",
     "collapsed": false,
     "input": [
      "women = 0\n",
      "men = 0\n",
      "uni = 0\n",
      "notav = 0\n",
      "auCount = 0\n",
      "\n",
      "unavailable = []"
     ],
     "language": "python",
     "metadata": {},
     "outputs": [],
     "prompt_number": 6
    },
    {
     "cell_type": "code",
     "collapsed": false,
     "input": [
      "def countGender(ts=True):\n",
      "    \"\"\"take the bib database and count genders of authors\n",
      "    \"\"\" \n",
      "    global auCount\n",
      "    global notav\n",
      "    global uni\n",
      "    global men\n",
      "    global women\n",
      "    global unavailable\n",
      "    for entry in data.entries:\n",
      "        if \"title\" in entry:\n",
      "            title = entry[\"title\"]\n",
      "        else:\n",
      "            print entry\n",
      "        if \"author\" in entry:\n",
      "            authors = entry[\"author\"] \n",
      "        elif ts==True:\n",
      "            print \"no author available for\", title\n",
      "        for j in authors:\n",
      "            auCount += 1\n",
      "            gender = gc.resolveGender(j, None) #resolve gender, yay\n",
      "            if gender == 'male':\n",
      "                men += 1\n",
      "            elif gender == 'female':\n",
      "                women += 1\n",
      "            elif gender == 'unisex':\n",
      "                uni += 1\n",
      "            else:\n",
      "                notav += 1 \n",
      "                if ts == True:\n",
      "                    print j, title"
     ],
     "language": "python",
     "metadata": {},
     "outputs": [],
     "prompt_number": 7
    },
    {
     "cell_type": "code",
     "collapsed": false,
     "input": [
      "data = parseFile(bib) #run the parse file\n",
      "countGender(ts=False)"
     ],
     "language": "python",
     "metadata": {},
     "outputs": [],
     "prompt_number": 8
    },
    {
     "cell_type": "code",
     "collapsed": false,
     "input": [
      "\"\"\"writing names unassigned to a file for troubleshooting\"\"\"\n",
      "with open('unavailable_gender.csv', 'wb') as myfile:\n",
      "    wr = csv.writer(myfile, quoting=csv.QUOTE_ALL)\n",
      "    wr.writerow(unavailable)"
     ],
     "language": "python",
     "metadata": {},
     "outputs": [],
     "prompt_number": 20
    },
    {
     "cell_type": "code",
     "collapsed": false,
     "input": [
      "stats = {'Women':women, 'Men':men, 'Unisex':uni, 'Not Available':notav}\n",
      "percents = {'Women':women, 'Men':men, 'Unisex':uni, 'Not Available':notav}"
     ],
     "language": "python",
     "metadata": {},
     "outputs": [],
     "prompt_number": 9
    },
    {
     "cell_type": "code",
     "collapsed": false,
     "input": [
      "for key in stats:\n",
      "    value = stats[key]\n",
      "    percent = value/auCount*100 #probably should fix so it can't break if dividing by zero\n",
      "    percents[key] = percent"
     ],
     "language": "python",
     "metadata": {},
     "outputs": [],
     "prompt_number": 16
    },
    {
     "cell_type": "code",
     "collapsed": false,
     "input": [
      "print stats\n",
      "print percents\n",
      "print auCount"
     ],
     "language": "python",
     "metadata": {},
     "outputs": [
      {
       "output_type": "stream",
       "stream": "stdout",
       "text": [
        "{'Unisex': 29, 'Not Available': 176, 'Men': 879, 'Women': 477}\n",
        "{'Unisex': 29, 'Not Available': 176, 'Men': 879, 'Women': 477}\n",
        "1561\n"
       ]
      }
     ],
     "prompt_number": 10
    },
    {
     "cell_type": "code",
     "collapsed": false,
     "input": [
      "plt.bar(range(len(stats)), percents.values(), align='center', color=\"#2aa198\")\n",
      "plt.xticks(range(len(percents)), percents.keys(), color=\"#657b83\")\n",
      "plt.xlabel('Gender Assigned (generated ' + str(today) +')', color=\"#073642\")\n",
      "plt.ylabel('Percents', color=\"#073642\")"
     ],
     "language": "python",
     "metadata": {},
     "outputs": [
      {
       "metadata": {},
       "output_type": "pyout",
       "prompt_number": 11,
       "text": [
        "<matplotlib.text.Text at 0x8a435d0>"
       ]
      }
     ],
     "prompt_number": 11
    },
    {
     "cell_type": "code",
     "collapsed": false,
     "input": [
      "plt.savefig('gender_distr.png', bbox_inches='tight',transparent=True)"
     ],
     "language": "python",
     "metadata": {},
     "outputs": [],
     "prompt_number": 12
    },
    {
     "cell_type": "code",
     "collapsed": false,
     "input": [],
     "language": "python",
     "metadata": {},
     "outputs": []
    }
   ],
   "metadata": {}
  }
 ]
}