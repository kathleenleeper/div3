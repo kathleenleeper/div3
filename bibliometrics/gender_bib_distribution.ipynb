{
 "metadata": {
  "name": "",
  "signature": "sha256:1b38ebf7303bbbe83ef92c26619ff24f25c4edbbfb449128f2a5ba19281a5ddb"
 },
 "nbformat": 3,
 "nbformat_minor": 0,
 "worksheets": [
  {
   "cells": [
    {
     "cell_type": "code",
     "collapsed": false,
     "input": [
      "from __future__ import division\n",
      "\n",
      "\"\"\"gendering\"\"\"\n",
      "from genderComputer.genderComputer import GenderComputer\n",
      "\n",
      "\"\"\"bibtex parsing\"\"\"\n",
      "import os\n",
      "import bibtexparser as b #module for bibtexin'\n",
      "from bibtexparser.bparser import BibTexParser #import to add customization\n",
      "from bibtexparser.customization import *\n",
      "\n",
      "\"\"\"plotting functions\"\"\"\n",
      "import matplotlib.pyplot as plt; plt.rcdefaults()\n",
      "import numpy as np\n",
      "import matplotlib.pyplot as plt\n"
     ],
     "language": "python",
     "metadata": {},
     "outputs": [],
     "prompt_number": 1
    },
    {
     "cell_type": "code",
     "collapsed": false,
     "input": [
      "bib = 'CriticalOpenNeuro.bib' #bring that bib file in"
     ],
     "language": "python",
     "metadata": {},
     "outputs": [],
     "prompt_number": 16
    },
    {
     "cell_type": "code",
     "collapsed": false,
     "input": [
      "gc = GenderComputer(os.path.abspath('genderComputer/nameLists')) #make gendercomputer"
     ],
     "language": "python",
     "metadata": {},
     "outputs": [
      {
       "output_type": "stream",
       "stream": "stdout",
       "text": [
        "Loaded dictionary from /home/feline/Documents/div3/bibliometrics/genderComputer/nameLists/gender.dict\n",
        "Finished initialization"
       ]
      },
      {
       "output_type": "stream",
       "stream": "stdout",
       "text": [
        "\n"
       ]
      }
     ],
     "prompt_number": 10
    },
    {
     "cell_type": "code",
     "collapsed": false,
     "input": [
      "def customizations(record):\n",
      "    \"\"\"Use some functions delivered by the library\n",
      "\n",
      "    :param record: a record\n",
      "    :returns: -- customized record\n",
      "    \"\"\"\n",
      "    record = type(record)\n",
      "    record = doi(record)\n",
      "    record = convert_to_unicode(record)\n",
      "    record = author(record)\n",
      "    return record"
     ],
     "language": "python",
     "metadata": {},
     "outputs": [],
     "prompt_number": 11
    },
    {
     "cell_type": "code",
     "collapsed": false,
     "input": [
      "def parseFile(bib_file):\n",
      "    \"\"\"parse the bib file\n",
      "    \n",
      "    :param bib_file: bibtex file to be parsed\n",
      "    :returns: -- a bibtex file object\n",
      "    \"\"\"\n",
      "    with open(bib_file) as bibtex_file: \n",
      "        parser = BibTexParser()\n",
      "        parser.homogenize = True        \n",
      "        parser.customization = customizations\n",
      "        data = b.load(bibtex_file, parser = parser)\n",
      "        return data"
     ],
     "language": "python",
     "metadata": {},
     "outputs": [],
     "prompt_number": 12
    },
    {
     "cell_type": "code",
     "collapsed": false,
     "input": [
      "def countGender(ts=True):\n",
      "    \"\"\"take the bib database and count genders of authors\n",
      "    \"\"\" \n",
      "    global auCount\n",
      "    global notav\n",
      "    global uni\n",
      "    global men\n",
      "    global women\n",
      "    for entry in data.entries:\n",
      "        title = entry[\"title\"]\n",
      "        if \"author\" in entry:\n",
      "            authors = entry[\"author\"] \n",
      "        elif ts==True:\n",
      "            print \"no author in\", title\n",
      "        for j in authors:\n",
      "            auCount += 1\n",
      "            gender = gc.resolveGender(j, None) #resolve gender, yay\n",
      "            if gender == 'male':\n",
      "                men += 1\n",
      "            elif gender == 'female':\n",
      "                women += 1\n",
      "            elif gender == 'unisex':\n",
      "                uni += 1\n",
      "            else:\n",
      "                notav += 1 \n",
      "                if ts == True:\n",
      "                    print j, title\n",
      "            "
     ],
     "language": "python",
     "metadata": {},
     "outputs": [],
     "prompt_number": 13
    },
    {
     "cell_type": "code",
     "collapsed": false,
     "input": [
      "women = 0\n",
      "men = 0\n",
      "uni = 0\n",
      "notav = 0\n",
      "auCount = 0"
     ],
     "language": "python",
     "metadata": {},
     "outputs": [],
     "prompt_number": 14
    },
    {
     "cell_type": "code",
     "collapsed": false,
     "input": [
      "data = parseFile(bib) #run the parse file\n",
      "countGender(ts=False)"
     ],
     "language": "python",
     "metadata": {},
     "outputs": [],
     "prompt_number": 17
    },
    {
     "cell_type": "code",
     "collapsed": false,
     "input": [
      "stats = {'Women':women, 'Men':men, 'Unisex':uni, 'Not Available':notav}\n",
      "percents = {'Women':women, 'Men':men, 'Unisex':uni, 'Not Available':notav}"
     ],
     "language": "python",
     "metadata": {},
     "outputs": [],
     "prompt_number": 18
    },
    {
     "cell_type": "code",
     "collapsed": false,
     "input": [
      "for key in stats:\n",
      "    value = stats[key]\n",
      "    percent = value/auCount*100 #probably should fix so it can't break if dividing by zero\n",
      "    percents[key] = percent"
     ],
     "language": "python",
     "metadata": {},
     "outputs": [],
     "prompt_number": 19
    },
    {
     "cell_type": "code",
     "collapsed": false,
     "input": [
      "print stats\n",
      "print percents\n",
      "print auCount"
     ],
     "language": "python",
     "metadata": {},
     "outputs": [
      {
       "output_type": "stream",
       "stream": "stdout",
       "text": [
        "{'Unisex': 16, 'Not Available': 101, 'Men': 551, 'Women': 307}\n",
        "{'Unisex': 1.641025641025641, 'Not Available': 10.358974358974358, 'Men': 56.51282051282052, 'Women': 31.48717948717949}\n",
        "975\n"
       ]
      }
     ],
     "prompt_number": 20
    },
    {
     "cell_type": "code",
     "collapsed": false,
     "input": [
      "plt.bar(range(len(stats)), percents.values(), align='center', alpha=0.1)\n",
      "plt.xticks(range(len(percents)), percents.keys())\n",
      "plt.xlabel('Gender Assigned')\n",
      "plt.ylabel('Percents')"
     ],
     "language": "python",
     "metadata": {},
     "outputs": [
      {
       "metadata": {},
       "output_type": "pyout",
       "prompt_number": 21,
       "text": [
        "<matplotlib.text.Text at 0x29d11d0>"
       ]
      }
     ],
     "prompt_number": 21
    },
    {
     "cell_type": "code",
     "collapsed": false,
     "input": [
      "plt.savefig('gender_distr.png', bbox_inches='tight')"
     ],
     "language": "python",
     "metadata": {},
     "outputs": [],
     "prompt_number": 22
    }
   ],
   "metadata": {}
  }
 ]
}