{
 "metadata": {
  "name": "",
  "signature": "sha256:b227cc615f6913f0b2426ec57ca241abc56c9b676b0836c24dd799df4a876845"
 },
 "nbformat": 3,
 "nbformat_minor": 0,
 "worksheets": [
  {
   "cells": [
    {
     "cell_type": "code",
     "collapsed": false,
     "input": [
      "from pyzotero import zotero\n",
      "zot = zotero.Zotero('747481', 'user', 'TooV7f23SFiHEQjXwh0f75sG')"
     ],
     "language": "python",
     "metadata": {},
     "outputs": [],
     "prompt_number": 5
    },
    {
     "cell_type": "code",
     "collapsed": false,
     "input": [
      "women = 0\n",
      "men = 0\n",
      "uni = 0\n",
      "notav = 0\n",
      "auCount = 0"
     ],
     "language": "python",
     "metadata": {},
     "outputs": [],
     "prompt_number": 18
    },
    {
     "cell_type": "code",
     "collapsed": false,
     "input": [
      "items = zot.top(limit=5)\n",
      "for item in items:\n",
      "    title = item[\"title\"]\n",
      "    authors = item[\"creators\"]\n",
      "    print authors"
     ],
     "language": "python",
     "metadata": {},
     "outputs": [
      {
       "output_type": "stream",
       "stream": "stdout",
       "text": [
        "[{u'lastName': u'Canales', u'creatorType': u'author', u'firstName': u'Jimena'}]\n",
        "[{u'lastName': u'Gu\\xe9don', u'creatorType': u'author', u'firstName': u'Jean-Claude'}]\n",
        "[{u'lastName': u'Reichman', u'creatorType': u'author', u'firstName': u'O. J.'}, {u'lastName': u'Jones', u'creatorType': u'author', u'firstName': u'M. B.'}, {u'lastName': u'Schildhauer', u'creatorType': u'author', u'firstName': u'M. P.'}]\n",
        "[{u'lastName': u'Borry', u'creatorType': u'author', u'firstName': u'Pascal'}, {u'lastName': u'Schotsmans', u'creatorType': u'author', u'firstName': u'Paul'}, {u'lastName': u'Dierickx', u'creatorType': u'author', u'firstName': u'Kris'}]\n",
        "[{u'lastName': u'Alberts', u'creatorType': u'author', u'firstName': u'Bruce'}, {u'lastName': u'Kirschner', u'creatorType': u'author', u'firstName': u'Marc W.'}, {u'lastName': u'Tilghman', u'creatorType': u'author', u'firstName': u'Shirley'}, {u'lastName': u'Varmus', u'creatorType': u'author', u'firstName': u'Harold'}]\n"
       ]
      }
     ],
     "prompt_number": 25
    },
    {
     "cell_type": "code",
     "collapsed": false,
     "input": [],
     "language": "python",
     "metadata": {},
     "outputs": []
    }
   ],
   "metadata": {}
  }
 ]
}