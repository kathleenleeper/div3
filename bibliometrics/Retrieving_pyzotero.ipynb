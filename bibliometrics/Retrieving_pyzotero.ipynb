{
 "metadata": {
  "name": "",
  "signature": "sha256:aa17fcd4ecb6e0d78cd08076c7267647dfe7532eb654c26e3887ed1c7f5efa8a"
 },
 "nbformat": 3,
 "nbformat_minor": 0,
 "worksheets": [
  {
   "cells": [
    {
     "cell_type": "code",
     "collapsed": false,
     "input": [
      "from pyzotero import zotero\n",
      "zot = zotero.Zotero('747481', 'user', 'TooV7f23SFiHEQjXwh0f75sG')"
     ],
     "language": "python",
     "metadata": {},
     "outputs": [],
     "prompt_number": 45
    },
    {
     "cell_type": "code",
     "collapsed": false,
     "input": [
      "\n",
      "\n",
      "\"\"\"gendering\"\"\"\n",
      "from genderComputer.genderComputer import GenderComputer\n",
      "import os\n",
      "\n",
      "\"\"\"plotting functions\"\"\"\n",
      "import matplotlib.pyplot as plt; plt.rcdefaults()\n",
      "import numpy as np\n",
      "import matplotlib.pyplot as plt\n"
     ],
     "language": "python",
     "metadata": {},
     "outputs": [],
     "prompt_number": 46
    },
    {
     "cell_type": "code",
     "collapsed": false,
     "input": [
      "gc = GenderComputer(os.path.abspath('genderComputer/nameLists')) #make gendercomputer"
     ],
     "language": "python",
     "metadata": {},
     "outputs": [
      {
       "output_type": "stream",
       "stream": "stdout",
       "text": [
        "Loaded dictionary from /home/feline/Documents/div3/bibliometrics/genderComputer/nameLists/gender.dict\n",
        "Finished initialization"
       ]
      },
      {
       "output_type": "stream",
       "stream": "stdout",
       "text": [
        "\n"
       ]
      }
     ],
     "prompt_number": 47
    },
    {
     "cell_type": "code",
     "collapsed": false,
     "input": [
      "women = 0\n",
      "men = 0\n",
      "uni = 0\n",
      "notav = 0\n",
      "auCount = 0"
     ],
     "language": "python",
     "metadata": {},
     "outputs": [],
     "prompt_number": 48
    },
    {
     "cell_type": "code",
     "collapsed": false,
     "input": [
      "labwork = zot.collection_items(\"BIEAP572\") #'labwork' collection; should include ALL subcollections?\n",
      "print len(labwork)"
     ],
     "language": "python",
     "metadata": {},
     "outputs": [
      {
       "output_type": "stream",
       "stream": "stdout",
       "text": [
        "42\n"
       ]
      }
     ],
     "prompt_number": 49
    },
    {
     "cell_type": "code",
     "collapsed": false,
     "input": [
      "for i in labwork:\n",
      "    title = i[\"title\"]\n",
      "    creators = i[\"creators\"]\n",
      "    for e in creators: \n",
      "        for key, value in e.items():\n",
      "            if key == \"firstName\":\n",
      "                gender = gc.resolveGender(value, None) #resolve gender, yay\n",
      "                print value,\"-\",gender"
     ],
     "language": "python",
     "metadata": {},
     "outputs": [
      {
       "output_type": "stream",
       "stream": "stdout",
       "text": [
        "Stephen B. - male\n",
        "Caroline S. - female\n",
        "Shing Kit - male\n",
        "Justine - female\n",
        "Michel Boris - male\n",
        "Michel - male\n",
        "Mich\u00e8le - female\n",
        "Efrain E. - male\n",
        "Randy L. - male\n",
        "Elaine - female\n",
        "Blaine N. - male\n",
        "Bryan L. - male\n",
        "Paulo Cesar Ribeiro - male\n",
        "Suely - female\n",
        "Michael P. - male\n",
        "Rick J. - male\n",
        "Alain - male\n",
        "Sandro - male\n",
        "Mark I. - male\n",
        "Simon D. - male\n",
        "Jailson Bittencourt - male\n",
        "Simon D. - male\n",
        "Torsten - male\n",
        "Michael P. - male\n",
        "Jessica M. - female\n",
        "Clint E. - male\n",
        "Drake - male\n",
        "Task Group on Data Citation - None\n",
        "CODATA-ICSTI - None\n",
        "R. - None\n",
        "P. - None\n",
        "V. L - None\n",
        "J. - None\n",
        "J. - None\n",
        "A. - None\n",
        "D. S - None\n",
        "Reshma - female\n",
        "Elizabeth A. - female\n",
        "Cynthia Cooper - female\n",
        "Lori E. - female\n",
        "Yuchiao - None\n",
        "Rebecca - female\n",
        "Nancy J. - female\n",
        "Elaine M. - female\n",
        "David J. - male\n",
        "Leslie A. - unisex\n",
        "David E. - male\n",
        "David E. - male\n",
        "Charles D. - male\n",
        "Cullen L. - male\n",
        "Kirsten M. - female\n",
        "Laura M. - female\n",
        "Charles D. - male\n",
        "Elaine - female\n",
        "Richard B. - male\n",
        "Jonathan D. - male\n",
        "Robert J. - male\n",
        "Atheir - None\n",
        "Bryan L. - male\n",
        "John A. - male\n",
        "Douglas J. - male\n",
        "Anushree - female\n",
        "Jason A. - male\n",
        "Sandra J. - female\n",
        "Jeffrey L. - male\n",
        "Bryan L. - male\n",
        "Jean-Claude - None\n",
        "Brian - male\n",
        "Paul - male\n",
        "Mark W. - male\n",
        "Paul - male\n",
        "Ljiljana - female\n",
        "Rodrigo - male\n",
        "Andrew B. - male\n",
        "Adrian J. - male\n",
        "Kok Choi - male\n",
        "Bryan L - male\n",
        "Martyn P. - male\n",
        "Juan - male\n",
        "Iman S. - female\n",
        "Zongqi - male\n",
        "John A. - male\n",
        "Beth A. - female\n",
        "Bryan L. - male\n",
        "Carine - female\n",
        "Sophie - female\n",
        "Benjamin - male\n",
        "G\u00e9rard - male\n",
        "Nathalie - female\n",
        "Aline - female\n",
        "Jo\u00ebl - male\n",
        "Philippe - male\n",
        "Christopher S. - male\n",
        "Jeffrey E. - male\n",
        "Christopher L. - male\n",
        "Lawrence W. - male\n",
        "Nico J. - male\n",
        "Frans - male\n",
        "Caroline - female\n",
        "Rein - male\n",
        "Jeroen A. D. M. - male\n",
        "Wiebe - male\n",
        "Virginia R. - female\n",
        "Brian M. - male\n",
        "Elizabeth R. - female\n",
        "Mangalathu S. - None\n",
        "C.-H. - None\n",
        "Leanne - female\n",
        "Dimitra - female\n",
        "Seong-Seng - None\n",
        "Massimo - male\n",
        "J. G. - None\n",
        "Christina - female\n",
        "Mirco - male\n",
        "Andreas"
       ]
      },
      {
       "output_type": "stream",
       "stream": "stdout",
       "text": [
        " - male\n",
        "Alexander - male\n",
        "Carola - female\n",
        "Viktor - male\n",
        "Stephan - male\n",
        "Rinki - male\n",
        "Nathan M - male\n",
        "Paul R - male\n",
        "Tim - male\n",
        "Aaron - male\n",
        "Daniel R - male\n",
        "Daria L - female\n",
        "Heather - female\n",
        "Marc - male\n",
        "V. - None\n",
        "V. - None\n",
        "Z. - None\n",
        "M. - None\n",
        "J. - None\n",
        "N. - None\n",
        "J. - None\n",
        "F. - None\n",
        "P. - None\n",
        "M. - None\n",
        "Yi - female\n",
        "Thomas - male\n",
        "Geoffrey - male\n",
        "Dianne Robert - female\n",
        "Bryan W. - male\n",
        "Kenneth J. - male\n",
        "G. - None\n",
        "Yoshiaki - male\n",
        "Ayumi - female\n",
        "Rei - male\n",
        "Kazuya - male\n",
        "Ikuo - male\n",
        "Naosuke - None\n",
        "Akira - female\n",
        "Yukihiro - male\n",
        "Takanori - male\n",
        "Masahiro - male\n",
        "Naoya - male\n",
        "Kentaro - male\n",
        "Kazuhiko - male\n",
        "Yoriko - female\n",
        "Yukihiro - male\n",
        "Michael W. - male\n",
        "Kenneth R. - male\n",
        "Ariff - male\n",
        "Soma - female\n",
        "John C. - male\n",
        "Jane - female\n",
        "Mark J. - male\n",
        "Phillipe - male\n",
        "Jo\u00ebl - male\n",
        "Clotilde - female\n",
        "Miles - male\n",
        "John A. - male\n",
        "Bryan L. - male\n"
       ]
      }
     ],
     "prompt_number": 50
    },
    {
     "cell_type": "code",
     "collapsed": false,
     "input": [],
     "language": "python",
     "metadata": {},
     "outputs": [
      {
       "output_type": "stream",
       "stream": "stdout",
       "text": [
        "[{u'lastName': u'Garcia', u'creatorType': u'author', u'firstName': u'Efrain E.'}, {u'lastName': u'Smith', u'creatorType': u'author', u'firstName': u'Randy L.'}, {u'lastName': u'Sanders-Bush', u'creatorType': u'author', u'firstName': u'Elaine'}]\n",
        "[{u'lastName': u'Nutt', u'creatorType': u'author', u'firstName': u'David J.'}, {u'lastName': u'King', u'creatorType': u'author', u'firstName': u'Leslie A.'}, {u'lastName': u'Nichols', u'creatorType': u'author', u'firstName': u'David E.'}]\n",
        "[{u'lastName': u'Armbruster', u'creatorType': u'author', u'firstName': u'Blaine N.'}, {u'lastName': u'Roth', u'creatorType': u'author', u'firstName': u'Bryan L.'}]\n",
        "[{u'lastName': u'Barbosa', u'creatorType': u'author', u'firstName': u'Paulo Cesar Ribeiro'}, {u'lastName': u'Mizumoto', u'creatorType': u'author', u'firstName': u'Suely'}, {u'lastName': u'Bogenschutz', u'creatorType': u'author', u'firstName': u'Michael P.'}, {u'lastName': u'Strassman', u'creatorType': u'author', u'firstName': u'Rick J.'}]\n",
        "[{u'lastName': u'Gaujac', u'creatorType': u'author', u'firstName': u'Alain'}, {u'lastName': u'Navickiene', u'creatorType': u'author', u'firstName': u'Sandro'}, {u'lastName': u'Collins', u'creatorType': u'author', u'firstName': u'Mark I.'}, {u'lastName': u'Brandt', u'creatorType': u'author', u'firstName': u'Simon D.'}, {u'lastName': u'Andrade', u'creatorType': u'author', u'firstName': u'Jailson Bittencourt'}]\n"
       ]
      }
     ],
     "prompt_number": 7
    },
    {
     "cell_type": "code",
     "collapsed": false,
     "input": [],
     "language": "python",
     "metadata": {},
     "outputs": []
    }
   ],
   "metadata": {}
  }
 ]
}